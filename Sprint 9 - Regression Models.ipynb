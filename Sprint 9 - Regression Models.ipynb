{
 "cells": [
  {
   "cell_type": "markdown",
   "id": "98b21b19",
   "metadata": {},
   "source": [
    "# <font color='#d50283'>IT Academy - Data Science Itinerary</font>\n",
    "## Sprint 9 Task 2 - Regression Models\n",
    "### Assignment by: Kat Weissman\n",
    "\n",
    "#### General objective:\n",
    "\n",
    "- Practice and become familiar with regressions\n",
    "\n",
    "#### Python Learning Objectives:\n",
    "- Regression models\n",
    "- Regression trees\n",
    "- Random Forest\n",
    "- Neural Networks\n",
    "- Other models"
   ]
  },
  {
   "cell_type": "markdown",
   "id": "6ce01116",
   "metadata": {},
   "source": [
    "*Recommended learning resources:*\n",
    "- https://realpython.com/linear-regression-in-python/\n",
    "- https://seaborn.pydata.org/tutorial/regression.html\n",
    "- https://towardsdatascience.com/simple-and-multiple-linear-regression-in-python-c928425168f9\n",
    "- https://towardsdatascience.com/what-are-the-best-metrics-to-evaluate-your-regression-model-418ca481755b\n",
    "- https://medium.com/acing-ai/how-to-evaluate-regression-models-d183b4f5853d\n",
    "- https://medium.com/pursuitnotes/decision-tree-regression-in-6-steps-with-python-1a1c5aa2ee16\n",
    "- https://towardsdatascience.com/random-forest-in-python-24d0893d51c0\n",
    "- https://www.pluralsight.com/guides/machine-learning-neural-networks-scikit-learn\n",
    "- https://scikit-learn.org/stable/modules/generated/sklearn.neural_network.MLPRegressor.html\n",
    "- https://playground.tensorflow.org/#activation=tanh&batchSize=10&dataset=circle&regDataset=reg-plane&learningRate=0.03&regularizationRate=0&noise=0&networkShape=4,2&seed=0.25281&showTestData=false&discretize=false&percTrainData=50&x=true&y=true&xTimesY=false&xSquared=false&ySquared=false&cosX=false&sinX=false&cosY=false&sinY=false&collectStats=false&problem=classification&initZero=false&hideText=false\n",
    "- https://medium.com/analytics-vidhya/5-regression-algorithms-you-need-to-know-theory-implementation-37993382122d\n",
    "- https://www.analyticssteps.com/blogs/7-types-regression-technique-you-should-know-machine-learning\n",
    "- https://www.w3schools.com/python/python_ml_getting_started.asp\n",
    "- https://scikit-learn.org/stable/tutorial/basic/tutorial.html\n",
    "- https://scikit-learn.org/stable/modules/preprocessing.html"
   ]
  },
  {
   "cell_type": "code",
   "execution_count": 1,
   "id": "932e69da",
   "metadata": {
    "ExecuteTime": {
     "end_time": "2021-07-22T10:31:49.600112Z",
     "start_time": "2021-07-22T10:31:49.590900Z"
    }
   },
   "outputs": [],
   "source": [
    "#Import libraries\n",
    "import numpy as np\n",
    "import pandas as pd\n",
    "import matplotlib.pyplot as plt\n",
    "import seaborn as sns\n",
    "from scipy import stats\n",
    "from sklearn.model_selection import train_test_split\n",
    "from sklearn.linear_model import LinearRegression\n",
    "from sklearn.metrics import mean_squared_error, r2_score\n",
    "from sklearn.tree import DecisionTreeRegressor"
   ]
  },
  {
   "cell_type": "markdown",
   "id": "0b26aee1",
   "metadata": {},
   "source": [
    "### Level 1\n",
    "\n",
    "### Exercise 1 \n",
    "Create at least three different regression models to try to predict DelayedFlights.csv's flight delay (ArrDelay) as best you can. The data set is at https://www.kaggle.com/giovamata/airlinedelaycauses"
   ]
  },
  {
   "cell_type": "code",
   "execution_count": 2,
   "id": "6e0f87d6",
   "metadata": {},
   "outputs": [],
   "source": [
    "pd.set_option('display.max_columns', None)  #set display to show all columns"
   ]
  },
  {
   "cell_type": "code",
   "execution_count": 3,
   "id": "276e8c30",
   "metadata": {},
   "outputs": [],
   "source": [
    "data_link = '/Users/kat/Library/Mobile Documents/com~apple~CloudDocs/IT Academy/Data Science Itinerary/Data/DelayedFlights.csv'\n",
    "df = pd.read_csv(data_link)"
   ]
  },
  {
   "cell_type": "markdown",
   "id": "0930e7af",
   "metadata": {},
   "source": [
    "#### Data Exploration"
   ]
  },
  {
   "cell_type": "code",
   "execution_count": 4,
   "id": "676b7b91",
   "metadata": {},
   "outputs": [
    {
     "data": {
      "text/plain": [
       "(1936758, 30)"
      ]
     },
     "execution_count": 4,
     "metadata": {},
     "output_type": "execute_result"
    }
   ],
   "source": [
    "# Show number of rows and columns in dataframe\n",
    "df.shape"
   ]
  },
  {
   "cell_type": "code",
   "execution_count": 5,
   "id": "fe56a352",
   "metadata": {
    "scrolled": false
   },
   "outputs": [
    {
     "data": {
      "text/plain": [
       "Index(['Unnamed: 0', 'Year', 'Month', 'DayofMonth', 'DayOfWeek', 'DepTime',\n",
       "       'CRSDepTime', 'ArrTime', 'CRSArrTime', 'UniqueCarrier', 'FlightNum',\n",
       "       'TailNum', 'ActualElapsedTime', 'CRSElapsedTime', 'AirTime', 'ArrDelay',\n",
       "       'DepDelay', 'Origin', 'Dest', 'Distance', 'TaxiIn', 'TaxiOut',\n",
       "       'Cancelled', 'CancellationCode', 'Diverted', 'CarrierDelay',\n",
       "       'WeatherDelay', 'NASDelay', 'SecurityDelay', 'LateAircraftDelay'],\n",
       "      dtype='object')"
      ]
     },
     "execution_count": 5,
     "metadata": {},
     "output_type": "execute_result"
    }
   ],
   "source": [
    "# Show column names\n",
    "df.columns"
   ]
  },
  {
   "cell_type": "code",
   "execution_count": 6,
   "id": "da2379e4",
   "metadata": {
    "scrolled": true
   },
   "outputs": [
    {
     "data": {
      "text/html": [
       "<div>\n",
       "<style scoped>\n",
       "    .dataframe tbody tr th:only-of-type {\n",
       "        vertical-align: middle;\n",
       "    }\n",
       "\n",
       "    .dataframe tbody tr th {\n",
       "        vertical-align: top;\n",
       "    }\n",
       "\n",
       "    .dataframe thead th {\n",
       "        text-align: right;\n",
       "    }\n",
       "</style>\n",
       "<table border=\"1\" class=\"dataframe\">\n",
       "  <thead>\n",
       "    <tr style=\"text-align: right;\">\n",
       "      <th></th>\n",
       "      <th>Unnamed: 0</th>\n",
       "      <th>Year</th>\n",
       "      <th>Month</th>\n",
       "      <th>DayofMonth</th>\n",
       "      <th>DayOfWeek</th>\n",
       "      <th>DepTime</th>\n",
       "      <th>CRSDepTime</th>\n",
       "      <th>ArrTime</th>\n",
       "      <th>CRSArrTime</th>\n",
       "      <th>UniqueCarrier</th>\n",
       "      <th>FlightNum</th>\n",
       "      <th>TailNum</th>\n",
       "      <th>ActualElapsedTime</th>\n",
       "      <th>CRSElapsedTime</th>\n",
       "      <th>AirTime</th>\n",
       "      <th>ArrDelay</th>\n",
       "      <th>DepDelay</th>\n",
       "      <th>Origin</th>\n",
       "      <th>Dest</th>\n",
       "      <th>Distance</th>\n",
       "      <th>TaxiIn</th>\n",
       "      <th>TaxiOut</th>\n",
       "      <th>Cancelled</th>\n",
       "      <th>CancellationCode</th>\n",
       "      <th>Diverted</th>\n",
       "      <th>CarrierDelay</th>\n",
       "      <th>WeatherDelay</th>\n",
       "      <th>NASDelay</th>\n",
       "      <th>SecurityDelay</th>\n",
       "      <th>LateAircraftDelay</th>\n",
       "    </tr>\n",
       "  </thead>\n",
       "  <tbody>\n",
       "    <tr>\n",
       "      <th>0</th>\n",
       "      <td>0</td>\n",
       "      <td>2008</td>\n",
       "      <td>1</td>\n",
       "      <td>3</td>\n",
       "      <td>4</td>\n",
       "      <td>2003.0</td>\n",
       "      <td>1955</td>\n",
       "      <td>2211.0</td>\n",
       "      <td>2225</td>\n",
       "      <td>WN</td>\n",
       "      <td>335</td>\n",
       "      <td>N712SW</td>\n",
       "      <td>128.0</td>\n",
       "      <td>150.0</td>\n",
       "      <td>116.0</td>\n",
       "      <td>-14.0</td>\n",
       "      <td>8.0</td>\n",
       "      <td>IAD</td>\n",
       "      <td>TPA</td>\n",
       "      <td>810</td>\n",
       "      <td>4.0</td>\n",
       "      <td>8.0</td>\n",
       "      <td>0</td>\n",
       "      <td>N</td>\n",
       "      <td>0</td>\n",
       "      <td>NaN</td>\n",
       "      <td>NaN</td>\n",
       "      <td>NaN</td>\n",
       "      <td>NaN</td>\n",
       "      <td>NaN</td>\n",
       "    </tr>\n",
       "    <tr>\n",
       "      <th>1</th>\n",
       "      <td>1</td>\n",
       "      <td>2008</td>\n",
       "      <td>1</td>\n",
       "      <td>3</td>\n",
       "      <td>4</td>\n",
       "      <td>754.0</td>\n",
       "      <td>735</td>\n",
       "      <td>1002.0</td>\n",
       "      <td>1000</td>\n",
       "      <td>WN</td>\n",
       "      <td>3231</td>\n",
       "      <td>N772SW</td>\n",
       "      <td>128.0</td>\n",
       "      <td>145.0</td>\n",
       "      <td>113.0</td>\n",
       "      <td>2.0</td>\n",
       "      <td>19.0</td>\n",
       "      <td>IAD</td>\n",
       "      <td>TPA</td>\n",
       "      <td>810</td>\n",
       "      <td>5.0</td>\n",
       "      <td>10.0</td>\n",
       "      <td>0</td>\n",
       "      <td>N</td>\n",
       "      <td>0</td>\n",
       "      <td>NaN</td>\n",
       "      <td>NaN</td>\n",
       "      <td>NaN</td>\n",
       "      <td>NaN</td>\n",
       "      <td>NaN</td>\n",
       "    </tr>\n",
       "    <tr>\n",
       "      <th>2</th>\n",
       "      <td>2</td>\n",
       "      <td>2008</td>\n",
       "      <td>1</td>\n",
       "      <td>3</td>\n",
       "      <td>4</td>\n",
       "      <td>628.0</td>\n",
       "      <td>620</td>\n",
       "      <td>804.0</td>\n",
       "      <td>750</td>\n",
       "      <td>WN</td>\n",
       "      <td>448</td>\n",
       "      <td>N428WN</td>\n",
       "      <td>96.0</td>\n",
       "      <td>90.0</td>\n",
       "      <td>76.0</td>\n",
       "      <td>14.0</td>\n",
       "      <td>8.0</td>\n",
       "      <td>IND</td>\n",
       "      <td>BWI</td>\n",
       "      <td>515</td>\n",
       "      <td>3.0</td>\n",
       "      <td>17.0</td>\n",
       "      <td>0</td>\n",
       "      <td>N</td>\n",
       "      <td>0</td>\n",
       "      <td>NaN</td>\n",
       "      <td>NaN</td>\n",
       "      <td>NaN</td>\n",
       "      <td>NaN</td>\n",
       "      <td>NaN</td>\n",
       "    </tr>\n",
       "    <tr>\n",
       "      <th>3</th>\n",
       "      <td>4</td>\n",
       "      <td>2008</td>\n",
       "      <td>1</td>\n",
       "      <td>3</td>\n",
       "      <td>4</td>\n",
       "      <td>1829.0</td>\n",
       "      <td>1755</td>\n",
       "      <td>1959.0</td>\n",
       "      <td>1925</td>\n",
       "      <td>WN</td>\n",
       "      <td>3920</td>\n",
       "      <td>N464WN</td>\n",
       "      <td>90.0</td>\n",
       "      <td>90.0</td>\n",
       "      <td>77.0</td>\n",
       "      <td>34.0</td>\n",
       "      <td>34.0</td>\n",
       "      <td>IND</td>\n",
       "      <td>BWI</td>\n",
       "      <td>515</td>\n",
       "      <td>3.0</td>\n",
       "      <td>10.0</td>\n",
       "      <td>0</td>\n",
       "      <td>N</td>\n",
       "      <td>0</td>\n",
       "      <td>2.0</td>\n",
       "      <td>0.0</td>\n",
       "      <td>0.0</td>\n",
       "      <td>0.0</td>\n",
       "      <td>32.0</td>\n",
       "    </tr>\n",
       "    <tr>\n",
       "      <th>4</th>\n",
       "      <td>5</td>\n",
       "      <td>2008</td>\n",
       "      <td>1</td>\n",
       "      <td>3</td>\n",
       "      <td>4</td>\n",
       "      <td>1940.0</td>\n",
       "      <td>1915</td>\n",
       "      <td>2121.0</td>\n",
       "      <td>2110</td>\n",
       "      <td>WN</td>\n",
       "      <td>378</td>\n",
       "      <td>N726SW</td>\n",
       "      <td>101.0</td>\n",
       "      <td>115.0</td>\n",
       "      <td>87.0</td>\n",
       "      <td>11.0</td>\n",
       "      <td>25.0</td>\n",
       "      <td>IND</td>\n",
       "      <td>JAX</td>\n",
       "      <td>688</td>\n",
       "      <td>4.0</td>\n",
       "      <td>10.0</td>\n",
       "      <td>0</td>\n",
       "      <td>N</td>\n",
       "      <td>0</td>\n",
       "      <td>NaN</td>\n",
       "      <td>NaN</td>\n",
       "      <td>NaN</td>\n",
       "      <td>NaN</td>\n",
       "      <td>NaN</td>\n",
       "    </tr>\n",
       "  </tbody>\n",
       "</table>\n",
       "</div>"
      ],
      "text/plain": [
       "   Unnamed: 0  Year  Month  DayofMonth  DayOfWeek  DepTime  CRSDepTime  \\\n",
       "0           0  2008      1           3          4   2003.0        1955   \n",
       "1           1  2008      1           3          4    754.0         735   \n",
       "2           2  2008      1           3          4    628.0         620   \n",
       "3           4  2008      1           3          4   1829.0        1755   \n",
       "4           5  2008      1           3          4   1940.0        1915   \n",
       "\n",
       "   ArrTime  CRSArrTime UniqueCarrier  FlightNum TailNum  ActualElapsedTime  \\\n",
       "0   2211.0        2225            WN        335  N712SW              128.0   \n",
       "1   1002.0        1000            WN       3231  N772SW              128.0   \n",
       "2    804.0         750            WN        448  N428WN               96.0   \n",
       "3   1959.0        1925            WN       3920  N464WN               90.0   \n",
       "4   2121.0        2110            WN        378  N726SW              101.0   \n",
       "\n",
       "   CRSElapsedTime  AirTime  ArrDelay  DepDelay Origin Dest  Distance  TaxiIn  \\\n",
       "0           150.0    116.0     -14.0       8.0    IAD  TPA       810     4.0   \n",
       "1           145.0    113.0       2.0      19.0    IAD  TPA       810     5.0   \n",
       "2            90.0     76.0      14.0       8.0    IND  BWI       515     3.0   \n",
       "3            90.0     77.0      34.0      34.0    IND  BWI       515     3.0   \n",
       "4           115.0     87.0      11.0      25.0    IND  JAX       688     4.0   \n",
       "\n",
       "   TaxiOut  Cancelled CancellationCode  Diverted  CarrierDelay  WeatherDelay  \\\n",
       "0      8.0          0                N         0           NaN           NaN   \n",
       "1     10.0          0                N         0           NaN           NaN   \n",
       "2     17.0          0                N         0           NaN           NaN   \n",
       "3     10.0          0                N         0           2.0           0.0   \n",
       "4     10.0          0                N         0           NaN           NaN   \n",
       "\n",
       "   NASDelay  SecurityDelay  LateAircraftDelay  \n",
       "0       NaN            NaN                NaN  \n",
       "1       NaN            NaN                NaN  \n",
       "2       NaN            NaN                NaN  \n",
       "3       0.0            0.0               32.0  \n",
       "4       NaN            NaN                NaN  "
      ]
     },
     "execution_count": 6,
     "metadata": {},
     "output_type": "execute_result"
    }
   ],
   "source": [
    "# Display first 5 rows of dataframe\n",
    "df.head(5)"
   ]
  },
  {
   "cell_type": "code",
   "execution_count": 7,
   "id": "200225ad",
   "metadata": {},
   "outputs": [
    {
     "data": {
      "text/plain": [
       "Unnamed: 0             int64\n",
       "Year                   int64\n",
       "Month                  int64\n",
       "DayofMonth             int64\n",
       "DayOfWeek              int64\n",
       "DepTime              float64\n",
       "CRSDepTime             int64\n",
       "ArrTime              float64\n",
       "CRSArrTime             int64\n",
       "UniqueCarrier         object\n",
       "FlightNum              int64\n",
       "TailNum               object\n",
       "ActualElapsedTime    float64\n",
       "CRSElapsedTime       float64\n",
       "AirTime              float64\n",
       "ArrDelay             float64\n",
       "DepDelay             float64\n",
       "Origin                object\n",
       "Dest                  object\n",
       "Distance               int64\n",
       "TaxiIn               float64\n",
       "TaxiOut              float64\n",
       "Cancelled              int64\n",
       "CancellationCode      object\n",
       "Diverted               int64\n",
       "CarrierDelay         float64\n",
       "WeatherDelay         float64\n",
       "NASDelay             float64\n",
       "SecurityDelay        float64\n",
       "LateAircraftDelay    float64\n",
       "dtype: object"
      ]
     },
     "execution_count": 7,
     "metadata": {},
     "output_type": "execute_result"
    }
   ],
   "source": [
    "# check data set variables\n",
    "df.dtypes"
   ]
  },
  {
   "cell_type": "code",
   "execution_count": 8,
   "id": "a2dec1f7",
   "metadata": {},
   "outputs": [
    {
     "data": {
      "text/plain": [
       "0"
      ]
     },
     "execution_count": 8,
     "metadata": {},
     "output_type": "execute_result"
    }
   ],
   "source": [
    "# Check for duplicates\n",
    "sum(df.duplicated())"
   ]
  },
  {
   "cell_type": "markdown",
   "id": "375440c2",
   "metadata": {},
   "source": [
    "Plotting a diagonal correlation matrix: https://seaborn.pydata.org/examples/many_pairwise_correlations.html"
   ]
  },
  {
   "cell_type": "code",
   "execution_count": 9,
   "id": "a9fb24fb",
   "metadata": {},
   "outputs": [
    {
     "data": {
      "text/plain": [
       "<AxesSubplot:>"
      ]
     },
     "execution_count": 9,
     "metadata": {},
     "output_type": "execute_result"
    },
    {
     "data": {
      "image/png": "[encoded data removed]",
      "text/plain": [
       "<Figure size 792x648 with 2 Axes>"
      ]
     },
     "metadata": {
      "needs_background": "light"
     },
     "output_type": "display_data"
    }
   ],
   "source": [
    "# Compute the correlation matrix\n",
    "corr = df.corr()\n",
    "\n",
    "# Generate a mask for the upper triangle\n",
    "mask = np.triu(np.ones_like(corr, dtype=bool))\n",
    "\n",
    "# Set up the matplotlib figure\n",
    "f, ax = plt.subplots(figsize=(11, 9))\n",
    "\n",
    "# Generate a custom diverging colormap\n",
    "cmap = sns.diverging_palette(230, 20, as_cmap=True)\n",
    "\n",
    "# Draw the heatmap with the mask and correct aspect ratio\n",
    "sns.heatmap(corr, mask=mask, cmap=cmap, vmax=1, vmin= -1, center=0,\n",
    "            square=True, linewidths=.5, cbar_kws={\"shrink\": .5})"
   ]
  },
  {
   "cell_type": "markdown",
   "id": "7fc08bb2",
   "metadata": {},
   "source": [
    "DepDelay is the variable most correlated with ArrDelay. DepTime, TaxiIn, TaxiOut, CarrierDelay, WeatherDelay, NASDelay, and LateAircraftDelay also have some positive correlations with ArrDelay. DepDelay could be the sum of CarrierDelay, WeatherDelay, NASDelay, SecurityDelay, and LateAircraftDelay for any given flight, which is the case for Observation 3 in the data preview. This should be evaluated.\n",
    "\n",
    "Reference for categorized delays:\n",
    "https://www.bts.gov/topics/airlines-and-airports/understanding-reporting-causes-flight-delays-and-cancellations"
   ]
  },
  {
   "cell_type": "code",
   "execution_count": 10,
   "id": "d69fbace",
   "metadata": {},
   "outputs": [
    {
     "name": "stdout",
     "output_type": "stream",
     "text": [
      "count    1247488.0\n",
      "mean          63.0\n",
      "std           61.0\n",
      "min           15.0\n",
      "25%           26.0\n",
      "50%           43.0\n",
      "75%           79.0\n",
      "max         2461.0\n",
      "Name: SumDelay, dtype: float64 2\n",
      "count    1936758.0\n",
      "mean          43.0\n",
      "std           53.0\n",
      "min            6.0\n",
      "25%           12.0\n",
      "50%           24.0\n",
      "75%           53.0\n",
      "max         2467.0\n",
      "Name: DepDelay, dtype: float64 2\n"
     ]
    }
   ],
   "source": [
    "# Create new variable which is the sum of categorized delays\n",
    "df[\"SumDelay\"] = df.CarrierDelay + df.WeatherDelay + df.NASDelay + df.SecurityDelay + df.LateAircraftDelay\n",
    "# Display the summary statistics of \"SumDelay\" and \"DepDelay\" variables\n",
    "print(round(df.SumDelay.describe()),2)\n",
    "print(round(df.DepDelay.describe()),2)"
   ]
  },
  {
   "cell_type": "code",
   "execution_count": 11,
   "id": "41b8a350",
   "metadata": {
    "scrolled": true
   },
   "outputs": [
    {
     "name": "stdout",
     "output_type": "stream",
     "text": [
      "count    1247488.0\n",
      "mean           4.0\n",
      "std           19.0\n",
      "min         -181.0\n",
      "25%           -7.0\n",
      "50%            0.0\n",
      "75%           10.0\n",
      "max          759.0\n",
      "Name: Diff_SumDelay_DepDelay, dtype: float64 2\n"
     ]
    }
   ],
   "source": [
    "# Create new variable which is the difference of SumDelay and DepDelay and display summary stats\n",
    "df['Diff_SumDelay_DepDelay'] = df.SumDelay - df.DepDelay\n",
    "print(round(df.Diff_SumDelay_DepDelay.describe()),2)"
   ]
  },
  {
   "cell_type": "markdown",
   "id": "d8ec513d",
   "metadata": {},
   "source": [
    "DepDelay is not always equal to the sum of the categorized delays, however the value is very close. The median difference is 0, and a great majority of observations have an absolute difference of 10 minutes or less between SumDelay and DepDelay, with an average difference of 4 minutes."
   ]
  },
  {
   "cell_type": "code",
   "execution_count": 12,
   "id": "ef4c2180",
   "metadata": {
    "scrolled": false
   },
   "outputs": [
    {
     "data": {
      "text/plain": [
       "<AxesSubplot:xlabel='Diff_SumDelay_DepDelay', ylabel='Count'>"
      ]
     },
     "execution_count": 12,
     "metadata": {},
     "output_type": "execute_result"
    },
    {
     "data": {
      "image/png": "[encoded data removed]",
      "text/plain": [
       "<Figure size 432x288 with 1 Axes>"
      ]
     },
     "metadata": {
      "needs_background": "light"
     },
     "output_type": "display_data"
    }
   ],
   "source": [
    "# Show histogram of variable representing difference of SumDelay and DepDelay\n",
    "sns.histplot(data=df, x='Diff_SumDelay_DepDelay')"
   ]
  },
  {
   "cell_type": "markdown",
   "id": "19ceecae",
   "metadata": {},
   "source": [
    "#### Model 1\n",
    "\n",
    "The first model will be a linear regression of DepDelay and ArrDelay using SciKitLearn Linear Regression.\n",
    "\n",
    "Reference: https://scikit-learn.org/stable/modules/generated/sklearn.linear_model.LinearRegression.html"
   ]
  },
  {
   "cell_type": "code",
   "execution_count": 13,
   "id": "16733747",
   "metadata": {},
   "outputs": [
    {
     "name": "stdout",
     "output_type": "stream",
     "text": [
      "0\n",
      "8387\n"
     ]
    }
   ],
   "source": [
    "print(df['DepDelay'].isna().sum())\n",
    "print(df['ArrDelay'].isna().sum())"
   ]
  },
  {
   "cell_type": "markdown",
   "id": "39ca4e4b",
   "metadata": {},
   "source": [
    "First, I will remove the rows where ArrDelay is NA."
   ]
  },
  {
   "cell_type": "code",
   "execution_count": 14,
   "id": "0839af31",
   "metadata": {},
   "outputs": [],
   "source": [
    "dfModel = df.dropna(subset=['DepDelay', 'ArrDelay'])"
   ]
  },
  {
   "cell_type": "code",
   "execution_count": 15,
   "id": "be390850",
   "metadata": {},
   "outputs": [
    {
     "data": {
      "text/plain": [
       "(1928371, 32)"
      ]
     },
     "execution_count": 15,
     "metadata": {},
     "output_type": "execute_result"
    }
   ],
   "source": [
    "dfModel.shape"
   ]
  },
  {
   "cell_type": "code",
   "execution_count": 16,
   "id": "6171d8f8",
   "metadata": {},
   "outputs": [
    {
     "name": "stdout",
     "output_type": "stream",
     "text": [
      "(1928371, 1)\n",
      "(1928371,)\n"
     ]
    }
   ],
   "source": [
    "x = np.array(dfModel.DepDelay).reshape((-1, 1))\n",
    "y = np.array(dfModel.ArrDelay)\n",
    "print(x.shape)\n",
    "print(y.shape)"
   ]
  },
  {
   "cell_type": "code",
   "execution_count": 17,
   "id": "565778e9",
   "metadata": {},
   "outputs": [],
   "source": [
    "model1 = LinearRegression().fit(x, y)"
   ]
  },
  {
   "cell_type": "code",
   "execution_count": 18,
   "id": "c76db8dd",
   "metadata": {
    "scrolled": true
   },
   "outputs": [
    {
     "name": "stdout",
     "output_type": "stream",
     "text": [
      "intercept: -1.5759463952546824\n",
      "slope: [1.01587634]\n"
     ]
    }
   ],
   "source": [
    "print('intercept:', model1.intercept_)\n",
    "print('slope:', model1.coef_)"
   ]
  },
  {
   "cell_type": "code",
   "execution_count": 19,
   "id": "411eb510",
   "metadata": {},
   "outputs": [
    {
     "data": {
      "text/plain": [
       "0.9080692673713632"
      ]
     },
     "execution_count": 19,
     "metadata": {},
     "output_type": "execute_result"
    }
   ],
   "source": [
    "r_sq1 = model1.score(x, y)\n",
    "r_sq1"
   ]
  },
  {
   "cell_type": "code",
   "execution_count": 20,
   "id": "b7d541a2",
   "metadata": {},
   "outputs": [
    {
     "name": "stdout",
     "output_type": "stream",
     "text": [
      "Mean squared error: 296.43085\n",
      "Coefficient of determination: 0.90807\n"
     ]
    }
   ],
   "source": [
    "# Make predictions using model\n",
    "y_pred1 = model1.predict(x)\n",
    "# The mean squared error\n",
    "MSE_1 = mean_squared_error(y, y_pred1)\n",
    "# The coefficient of determination: 1 is perfect prediction\n",
    "r2_score1 = r2_score(y, y_pred1)\n",
    "# Create a variable of residuals\n",
    "residuals1 = y - y_pred1\n",
    "print(\"Mean squared error: %.5f\" % MSE_1)\n",
    "print(\"Coefficient of determination: %.5f\" % r2_score1)"
   ]
  },
  {
   "cell_type": "markdown",
   "id": "09a16237",
   "metadata": {},
   "source": [
    "Reference about residuals: https://towardsdatascience.com/how-to-use-residual-plots-for-regression-model-validation-c3c70e8ab378\n",
    "\n",
    "Using the sklearn.metrics r2_score(y, y_pred) function produces the same result as sklearn.linear_model model.score(x,y) function."
   ]
  },
  {
   "cell_type": "code",
   "execution_count": 21,
   "id": "41285ee6",
   "metadata": {
    "scrolled": true
   },
   "outputs": [
    {
     "data": {
      "text/plain": [
       "<seaborn.axisgrid.FacetGrid at 0x7fe377ec3be0>"
      ]
     },
     "execution_count": 21,
     "metadata": {},
     "output_type": "execute_result"
    },
    {
     "data": {
      "image/png": "[encoded data removed]",
      "text/plain": [
       "<Figure size 360x360 with 1 Axes>"
      ]
     },
     "metadata": {
      "needs_background": "light"
     },
     "output_type": "display_data"
    }
   ],
   "source": [
    "# Plot Seaborn linear regression model\n",
    "sns.lmplot(x=\"DepDelay\", y=\"ArrDelay\", data=dfModel)"
   ]
  },
  {
   "cell_type": "markdown",
   "id": "374cfcea",
   "metadata": {},
   "source": [
    "#### Model 2\n",
    "\n",
    "The second model will be a multiple linear regression of ArrDelay using the variables DepTime, TaxiIn, TaxiOut, CarrierDelay, WeatherDelay, NASDelay, and LateAircraftDelay."
   ]
  },
  {
   "cell_type": "code",
   "execution_count": 22,
   "id": "43675200",
   "metadata": {},
   "outputs": [
    {
     "name": "stdout",
     "output_type": "stream",
     "text": [
      "0\n",
      "0\n",
      "0\n",
      "0\n",
      "680883\n",
      "680883\n",
      "680883\n",
      "680883\n"
     ]
    }
   ],
   "source": [
    "print(dfModel['ArrDelay'].isna().sum())\n",
    "print(dfModel['DepTime'].isna().sum())\n",
    "print(dfModel['TaxiIn'].isna().sum())\n",
    "print(dfModel['TaxiOut'].isna().sum())\n",
    "print(dfModel['CarrierDelay'].isna().sum())\n",
    "print(dfModel['WeatherDelay'].isna().sum())\n",
    "print(dfModel['NASDelay'].isna().sum())\n",
    "print(dfModel['LateAircraftDelay'].isna().sum())"
   ]
  },
  {
   "cell_type": "markdown",
   "id": "310af680",
   "metadata": {},
   "source": [
    "I will remove the rows which have NAs in the categorized delay columns."
   ]
  },
  {
   "cell_type": "code",
   "execution_count": 23,
   "id": "7a7bc1f2",
   "metadata": {},
   "outputs": [
    {
     "data": {
      "text/plain": [
       "(1247488, 32)"
      ]
     },
     "execution_count": 23,
     "metadata": {},
     "output_type": "execute_result"
    }
   ],
   "source": [
    "dfModel2 = dfModel.dropna(subset=['CarrierDelay', 'WeatherDelay', 'NASDelay','LateAircraftDelay'])\n",
    "dfModel2.shape"
   ]
  },
  {
   "cell_type": "code",
   "execution_count": 24,
   "id": "f8bc9973",
   "metadata": {},
   "outputs": [
    {
     "name": "stdout",
     "output_type": "stream",
     "text": [
      "(1247488, 7)\n",
      "(1247488,)\n"
     ]
    }
   ],
   "source": [
    "# choose predictors\n",
    "x = dfModel2[['DepTime', 'TaxiIn', 'TaxiOut', 'CarrierDelay', 'WeatherDelay', 'NASDelay','LateAircraftDelay']]\n",
    "# assign depenedent variable\n",
    "y = dfModel2['ArrDelay']\n",
    "print(x.shape)\n",
    "print(y.shape)"
   ]
  },
  {
   "cell_type": "code",
   "execution_count": 25,
   "id": "9ba9b215",
   "metadata": {},
   "outputs": [],
   "source": [
    "model2 = LinearRegression().fit(x, y)"
   ]
  },
  {
   "cell_type": "code",
   "execution_count": 26,
   "id": "d312495e",
   "metadata": {},
   "outputs": [
    {
     "name": "stdout",
     "output_type": "stream",
     "text": [
      "intercept: 0.241\n",
      "slope: [-5.36332737e-05 -4.85689355e-04  5.28412700e-04  9.98769657e-01\n",
      "  9.98965022e-01  9.98858272e-01  9.98819190e-01]\n"
     ]
    }
   ],
   "source": [
    "print('intercept:', round(model2.intercept_,3))\n",
    "print('slope:', model2.coef_)"
   ]
  },
  {
   "cell_type": "markdown",
   "id": "bf3effa1",
   "metadata": {},
   "source": [
    "Because the first three variables have coefficients very close to 0, I will remove them from Model2 Multiple Linear Regression. The final second model will be a multiple linear regression of ArrDelay using the variables CarrierDelay, WeatherDelay, NASDelay, and LateAircraftDelay."
   ]
  },
  {
   "cell_type": "code",
   "execution_count": 27,
   "id": "436b5d0f",
   "metadata": {},
   "outputs": [],
   "source": [
    "# choose predictors\n",
    "x = dfModel2[['CarrierDelay', 'WeatherDelay', 'NASDelay','LateAircraftDelay']]\n",
    "# assign depenedent variable\n",
    "y = dfModel2['ArrDelay']"
   ]
  },
  {
   "cell_type": "code",
   "execution_count": 28,
   "id": "bc9de862",
   "metadata": {},
   "outputs": [],
   "source": [
    "model2alt = LinearRegression().fit(x, y)"
   ]
  },
  {
   "cell_type": "code",
   "execution_count": 29,
   "id": "07f7ca78",
   "metadata": {
    "scrolled": true
   },
   "outputs": [
    {
     "name": "stdout",
     "output_type": "stream",
     "text": [
      "intercept: 0.166\n",
      "slope: [0.99878346 0.99898102 0.99892094 0.99871879]\n"
     ]
    }
   ],
   "source": [
    "print('intercept:', round(model2alt.intercept_,3))\n",
    "print('slope:', model2alt.coef_)"
   ]
  },
  {
   "cell_type": "code",
   "execution_count": 30,
   "id": "ad95ed8c",
   "metadata": {},
   "outputs": [
    {
     "data": {
      "text/plain": [
       "0.9988929761012224"
      ]
     },
     "execution_count": 30,
     "metadata": {},
     "output_type": "execute_result"
    }
   ],
   "source": [
    "r_sq2 = model2alt.score(x, y)\n",
    "r_sq2"
   ]
  },
  {
   "cell_type": "code",
   "execution_count": 31,
   "id": "bc65ecbc",
   "metadata": {},
   "outputs": [
    {
     "name": "stdout",
     "output_type": "stream",
     "text": [
      "Mean squared error: 4.08609\n",
      "Coefficient of determination: 0.99889\n"
     ]
    }
   ],
   "source": [
    "# Make predictions using model\n",
    "y_pred2 = model2alt.predict(x)\n",
    "# The mean squared error\n",
    "MSE_2 = mean_squared_error(y, y_pred2)\n",
    "# The coefficient of determination: 1 is perfect prediction\n",
    "r2_score2 = r2_score(y, y_pred2)\n",
    "# Create a variable of residuals\n",
    "residuals2 = y - y_pred2\n",
    "print(\"Mean squared error: %.5f\" % MSE_2)\n",
    "print(\"Coefficient of determination: %.5f\" % r2_score2)"
   ]
  },
  {
   "cell_type": "markdown",
   "id": "b3aaa5ec",
   "metadata": {},
   "source": [
    "#### Model 3\n",
    "Model 3 will be a Decision Tree Regressor\n",
    "\n",
    "Reference: https://medium.com/pursuitnotes/decision-tree-regression-in-6-steps-with-python-1a1c5aa2ee16"
   ]
  },
  {
   "cell_type": "code",
   "execution_count": 32,
   "id": "faa345c7",
   "metadata": {},
   "outputs": [],
   "source": [
    "regressor = DecisionTreeRegressor(random_state=0)"
   ]
  },
  {
   "cell_type": "code",
   "execution_count": 33,
   "id": "f5ddd103",
   "metadata": {},
   "outputs": [],
   "source": [
    "# choose predictors\n",
    "X = dfModel2[['DepTime', 'TaxiIn', 'TaxiOut', 'CarrierDelay', 'WeatherDelay', 'NASDelay','LateAircraftDelay']]\n",
    "# assign depenedent variable\n",
    "y = dfModel2['ArrDelay']"
   ]
  },
  {
   "cell_type": "code",
   "execution_count": 34,
   "id": "d533760d",
   "metadata": {},
   "outputs": [],
   "source": [
    "model3 = regressor.fit(X,y)"
   ]
  },
  {
   "cell_type": "code",
   "execution_count": 35,
   "id": "7bffe65b",
   "metadata": {},
   "outputs": [
    {
     "data": {
      "text/plain": [
       "0.9999990768550548"
      ]
     },
     "execution_count": 35,
     "metadata": {},
     "output_type": "execute_result"
    }
   ],
   "source": [
    "model3.score(X, y)"
   ]
  },
  {
   "cell_type": "code",
   "execution_count": 36,
   "id": "8aa96171",
   "metadata": {},
   "outputs": [
    {
     "name": "stdout",
     "output_type": "stream",
     "text": [
      "Mean squared error: 0.0034074\n",
      "Coefficient of determination: 0.9999991\n"
     ]
    }
   ],
   "source": [
    "# Make predictions using model\n",
    "y_pred3 = model3.predict(X)\n",
    "# The mean squared error\n",
    "MSE_3 = mean_squared_error(y, y_pred3)\n",
    "# The coefficient of determination: 1 is perfect prediction\n",
    "r2_score3 = r2_score(y, y_pred3)\n",
    "# Create a variable of residuals\n",
    "residuals3 = y - y_pred3\n",
    "print(\"Mean squared error: %.7f\" % MSE_3)\n",
    "print(\"Coefficient of determination: %.7f\" % r2_score3)"
   ]
  },
  {
   "cell_type": "markdown",
   "id": "899dcafb",
   "metadata": {},
   "source": [
    "### Exercise 2 \n",
    "Compare them based on MSE and R2.\n",
    "\n",
    "It is also recommended to show a histogram of the difference between actual and predicted value to see graphically how good the prediction is."
   ]
  },
  {
   "cell_type": "code",
   "execution_count": 37,
   "id": "02f502df",
   "metadata": {},
   "outputs": [
    {
     "name": "stdout",
     "output_type": "stream",
     "text": [
      "Linear Regression Model 1:\n",
      "  coefficient of determination: 0.908\n",
      "  mean squared error: 296.431\n",
      "Multiple Linear Regression Model 2:\n",
      "  coefficient of determination: 0.999\n",
      "  mean squared error: 4.086\n",
      "Decision Tree Regression Model 3:\n",
      "  coefficient of determination: 1.0\n",
      "  mean squared error: 0.003\n"
     ]
    }
   ],
   "source": [
    "print('Linear Regression Model 1:')\n",
    "print('  coefficient of determination:', round(r_sq1,3))\n",
    "print(\"  mean squared error: %.3f\" % MSE_1)\n",
    "print('Multiple Linear Regression Model 2:')\n",
    "print('  coefficient of determination:', round(r_sq2,3))\n",
    "print(\"  mean squared error: %.3f\" % MSE_2)\n",
    "print('Decision Tree Regression Model 3:')\n",
    "print('  coefficient of determination:', round(r2_score3,3))\n",
    "print(\"  mean squared error: %.3f\" % MSE_3)\n"
   ]
  },
  {
   "cell_type": "code",
   "execution_count": 38,
   "id": "3b6dbee1",
   "metadata": {
    "scrolled": true
   },
   "outputs": [
    {
     "data": {
      "text/plain": [
       "Text(0.5, 0, 'Residuals')"
      ]
     },
     "execution_count": 38,
     "metadata": {},
     "output_type": "execute_result"
    },
    {
     "data": {
      "image/png": "[encoded data removed]",
      "text/plain": [
       "<Figure size 864x288 with 3 Axes>"
      ]
     },
     "metadata": {
      "needs_background": "light"
     },
     "output_type": "display_data"
    }
   ],
   "source": [
    "# Plot histograms of residuals\n",
    "fig, axes = plt.subplots(1, 3, figsize=(12,4))\n",
    "fig.suptitle('Histograms of Residuals for Models 1, 2, & 3')\n",
    "sns.histplot(data=residuals1, stat='probability', bins=20, ax=axes[0])\n",
    "axes[0].set_title(\"Model 1: LR\")\n",
    "axes[0].set_ylim(0, 1.1)\n",
    "axes[0].set_xlabel(\"Residuals\")\n",
    "sns.histplot(data=residuals2, stat='probability', bins=20, ax=axes[1])\n",
    "axes[1].set_title(\"Model 2: MLR\")\n",
    "axes[1].set_ylim(0, 1.1)\n",
    "axes[1].set_xlabel(\"Residuals\")\n",
    "sns.histplot(data=residuals3, stat='probability', bins=20, ax=axes[2])\n",
    "axes[2].set_title(\"Model 3: Regression Tree\")\n",
    "axes[2].set_ylim(0, 1.1)\n",
    "axes[2].set_xlabel(\"Residuals\")"
   ]
  },
  {
   "cell_type": "markdown",
   "id": "e192b3c8",
   "metadata": {},
   "source": [
    "Model 2 has a higher coefficient of determination and lower mean squared error than Model 1 which is good, however the data to produce the models was slightly different because I removed observations which had NA in the categorized delay columns. \n",
    "\n",
    "I will re-create Model 1 using the same observations as Model 2 and 3 and compare the scores.\n",
    "\n",
    "Model 3 has the best coefficient of determination and mean squared error using a decision tree to do regression on  the variables 'DepTime', 'TaxiIn', 'TaxiOut', 'CarrierDelay', 'WeatherDelay', 'NASDelay','LateAircraftDelay'."
   ]
  },
  {
   "cell_type": "code",
   "execution_count": 39,
   "id": "c41c87cc",
   "metadata": {},
   "outputs": [
    {
     "name": "stdout",
     "output_type": "stream",
     "text": [
      "Model 1 using same data as Model 2:\n",
      "  intercept: 5.7400500801114305\n",
      "  slope: [0.96437186]\n",
      "  Mean squared error: 357.607\n",
      "  Coefficient of determination: 0.903\n"
     ]
    }
   ],
   "source": [
    "x = np.array(dfModel2.DepDelay).reshape((-1, 1))\n",
    "y = np.array(dfModel2.ArrDelay)\n",
    "model1alt = LinearRegression().fit(x, y)\n",
    "print('Model 1 using same data as Model 2:')\n",
    "print('  intercept:', model1alt.intercept_)\n",
    "print('  slope:', model1alt.coef_)\n",
    "# Make predictions using model\n",
    "y_pred1alt = model1alt.predict(x)\n",
    "# The mean squared error\n",
    "MSE_1alt = mean_squared_error(y, y_pred1alt)\n",
    "# The coefficient of determination: 1 is perfect prediction\n",
    "r2_score1alt = r2_score(y, y_pred1alt)\n",
    "print(\"  Mean squared error: %.3f\" % MSE_1alt)\n",
    "print(\"  Coefficient of determination: %.3f\" % r2_score1alt)"
   ]
  },
  {
   "cell_type": "markdown",
   "id": "5e0bbb13",
   "metadata": {},
   "source": [
    "The Linear Regression Model 1 scores got worse when using less data. The Multiple Linear Regression Model 2 has a higher coefficient of determination which indicates using the linear combination of the categorized delays is better than using just the DepDelay variable.\n",
    "\n",
    "Model 3 still seems to be the best model."
   ]
  },
  {
   "cell_type": "markdown",
   "id": "8dc0493b",
   "metadata": {},
   "source": [
    "### Exercise 3 & Exercise 4\n",
    "Train them using the different parameters they support.\n",
    "\n",
    "Compare your performance using the train / test approach or using all data (internal validation)"
   ]
  },
  {
   "cell_type": "markdown",
   "id": "a82ad3cf",
   "metadata": {},
   "source": [
    "I will split the data used for Model 1 into a training and testing set."
   ]
  },
  {
   "cell_type": "code",
   "execution_count": 40,
   "id": "b8826a4e",
   "metadata": {},
   "outputs": [],
   "source": [
    "x = dfModel[['DepDelay']]\n",
    "y = dfModel['ArrDelay']\n",
    "# Split data frame into train and test set using 20% of data for testing.\n",
    "x_train, x_test, y_train, y_test = train_test_split(x, y, test_size=0.2, random_state=24, shuffle=True, stratify=None)"
   ]
  },
  {
   "cell_type": "code",
   "execution_count": 41,
   "id": "050cf900",
   "metadata": {},
   "outputs": [
    {
     "name": "stdout",
     "output_type": "stream",
     "text": [
      "(1542696, 1)\n",
      "(1542696,)\n",
      "(385675, 1)\n",
      "(385675,)\n"
     ]
    }
   ],
   "source": [
    "# Check dimensions of train and test data frames\n",
    "print (x_train.shape)\n",
    "print (y_train.shape)\n",
    "print (x_test.shape)\n",
    "print (y_test.shape)"
   ]
  },
  {
   "cell_type": "code",
   "execution_count": 42,
   "id": "ae69f7bf",
   "metadata": {
    "scrolled": true
   },
   "outputs": [
    {
     "name": "stdout",
     "output_type": "stream",
     "text": [
      "Linear Regression Model 1:\n",
      "  coefficient of determination: 0.909\n",
      "  mean squared error: 295.733\n"
     ]
    }
   ],
   "source": [
    "model1_train = LinearRegression().fit(x_train,y_train)\n",
    "y_prediction1 =  model1_train.predict(x_test)\n",
    "MSE_1_split = mean_squared_error(y_test, y_prediction1)\n",
    "# The coefficient of determination: 1 is perfect prediction\n",
    "r2_score1_split = r2_score(y_test, y_prediction1)\n",
    "residuals1 = y_test - y_prediction1\n",
    "print('Linear Regression Model 1:')\n",
    "print('  coefficient of determination:', round(r2_score1_split,3))\n",
    "print(\"  mean squared error: %.3f\" % MSE_1_split)"
   ]
  },
  {
   "cell_type": "markdown",
   "id": "cab71a80",
   "metadata": {},
   "source": [
    "The scores for Linear Regression Model 1 improved very very slightly using a train/test split, but they did not change much."
   ]
  },
  {
   "cell_type": "code",
   "execution_count": 43,
   "id": "5f6b5f93",
   "metadata": {
    "scrolled": true
   },
   "outputs": [
    {
     "data": {
      "text/plain": [
       "{'copy_X': True,\n",
       " 'fit_intercept': True,\n",
       " 'n_jobs': None,\n",
       " 'normalize': 'deprecated',\n",
       " 'positive': False}"
      ]
     },
     "execution_count": 43,
     "metadata": {},
     "output_type": "execute_result"
    }
   ],
   "source": [
    "model1_train.get_params()"
   ]
  },
  {
   "cell_type": "markdown",
   "id": "cdd133b9",
   "metadata": {},
   "source": [
    "The Linear Regression model does not have any parameters that need to be adjusted."
   ]
  },
  {
   "cell_type": "markdown",
   "id": "1e82f4c3",
   "metadata": {},
   "source": [
    "I will split the data used for Model 2 into a training and testing set."
   ]
  },
  {
   "cell_type": "code",
   "execution_count": 44,
   "id": "4225a28c",
   "metadata": {},
   "outputs": [],
   "source": [
    "x = dfModel2[['CarrierDelay', 'WeatherDelay', 'NASDelay','LateAircraftDelay']]\n",
    "y = dfModel2['ArrDelay']\n",
    "# Split data frame into train and test set using 20% of data for testing.\n",
    "x_train, x_test, y_train, y_test = train_test_split(x, y, test_size=0.2, random_state=24, shuffle=True, stratify=None)"
   ]
  },
  {
   "cell_type": "code",
   "execution_count": 45,
   "id": "70897ba7",
   "metadata": {
    "scrolled": true
   },
   "outputs": [
    {
     "name": "stdout",
     "output_type": "stream",
     "text": [
      "(997990, 4)\n",
      "(997990,)\n",
      "(249498, 4)\n",
      "(249498,)\n"
     ]
    }
   ],
   "source": [
    "# Check dimensions of train and test data frames\n",
    "print (x_train.shape)\n",
    "print (y_train.shape)\n",
    "print (x_test.shape)\n",
    "print (y_test.shape)"
   ]
  },
  {
   "cell_type": "code",
   "execution_count": 46,
   "id": "f6b09c1d",
   "metadata": {
    "scrolled": false
   },
   "outputs": [
    {
     "name": "stdout",
     "output_type": "stream",
     "text": [
      "Multiple Linear Regression Model 2:\n",
      "  coefficient of determination: 0.999\n",
      "  mean squared error: 5.221\n"
     ]
    }
   ],
   "source": [
    "model2_train = LinearRegression().fit(x_train,y_train)\n",
    "y_prediction2 =  model2_train.predict(x_test)\n",
    "MSE_2_split = mean_squared_error(y_test, y_prediction2)\n",
    "# The coefficient of determination: 1 is perfect prediction\n",
    "r2_score2_split = r2_score(y_test, y_prediction2)\n",
    "residuals2 = y_test - y_prediction2\n",
    "print('Multiple Linear Regression Model 2:')\n",
    "print('  coefficient of determination:', round(r2_score2_split,3))\n",
    "print(\"  mean squared error: %.3f\" % MSE_2_split)"
   ]
  },
  {
   "cell_type": "markdown",
   "id": "3c9b61d6",
   "metadata": {},
   "source": [
    "The mean squared error increased slightly, which is worse, but the coefficient of determination remained the same for Model 2 using a train/test split to create and evaluate the model."
   ]
  },
  {
   "cell_type": "code",
   "execution_count": 47,
   "id": "8f27c401",
   "metadata": {
    "scrolled": true
   },
   "outputs": [
    {
     "data": {
      "text/plain": [
       "{'copy_X': True,\n",
       " 'fit_intercept': True,\n",
       " 'n_jobs': None,\n",
       " 'normalize': 'deprecated',\n",
       " 'positive': False}"
      ]
     },
     "execution_count": 47,
     "metadata": {},
     "output_type": "execute_result"
    }
   ],
   "source": [
    "model2_train.get_params()"
   ]
  },
  {
   "cell_type": "markdown",
   "id": "5c8bd750",
   "metadata": {},
   "source": [
    "The Multiple Linear Regression model does not have any parameters that need to be adjusted."
   ]
  },
  {
   "cell_type": "markdown",
   "id": "b6573808",
   "metadata": {},
   "source": [
    "I will split the data used for Model 3 into a training and testing set."
   ]
  },
  {
   "cell_type": "code",
   "execution_count": 48,
   "id": "0da7d4d8",
   "metadata": {},
   "outputs": [],
   "source": [
    "x = dfModel2[['DepTime', 'TaxiIn', 'TaxiOut', 'CarrierDelay', 'WeatherDelay', 'NASDelay','LateAircraftDelay']]\n",
    "y = dfModel2['ArrDelay']\n",
    "# Split data frame into train and test set using 20% of data for testing.\n",
    "x_train, x_test, y_train, y_test = train_test_split(x, y, test_size=0.2, random_state=24, shuffle=True, stratify=None)"
   ]
  },
  {
   "cell_type": "code",
   "execution_count": 49,
   "id": "0a3db4d6",
   "metadata": {},
   "outputs": [
    {
     "name": "stdout",
     "output_type": "stream",
     "text": [
      "(997990, 7)\n",
      "(997990,)\n",
      "(249498, 7)\n",
      "(249498,)\n"
     ]
    }
   ],
   "source": [
    "# Check dimensions of train and test data frames\n",
    "print (x_train.shape)\n",
    "print (y_train.shape)\n",
    "print (x_test.shape)\n",
    "print (y_test.shape)"
   ]
  },
  {
   "cell_type": "code",
   "execution_count": 50,
   "id": "70c49d00",
   "metadata": {},
   "outputs": [
    {
     "name": "stdout",
     "output_type": "stream",
     "text": [
      "Deceision Tree Regression Model 3:\n",
      "  coefficient of determination: 0.995\n",
      "  mean squared error: 19.957\n"
     ]
    }
   ],
   "source": [
    "model3_train = regressor.fit(x_train,y_train)\n",
    "y_prediction3 =  model3_train.predict(x_test)\n",
    "MSE_3_split = mean_squared_error(y_test, y_prediction3)\n",
    "# The coefficient of determination: 1 is perfect prediction\n",
    "r2_score3_split = r2_score(y_test, y_prediction3)\n",
    "residuals3 = y_test - y_prediction3\n",
    "print('Deceision Tree Regression Model 3:')\n",
    "print('  coefficient of determination:', round(r2_score3_split,3))\n",
    "print(\"  mean squared error: %.3f\" % MSE_3_split)"
   ]
  },
  {
   "cell_type": "markdown",
   "id": "43875bbf",
   "metadata": {},
   "source": [
    "The Decision Tree regressor changed the most when using a Training & Testing Data Split. After evaluating the models with training and testing data, the Mulitple Linear Regression Model 2 has the best performance."
   ]
  },
  {
   "cell_type": "code",
   "execution_count": 51,
   "id": "b39c5769",
   "metadata": {
    "scrolled": false
   },
   "outputs": [
    {
     "data": {
      "text/plain": [
       "{'ccp_alpha': 0.0,\n",
       " 'criterion': 'squared_error',\n",
       " 'max_depth': None,\n",
       " 'max_features': None,\n",
       " 'max_leaf_nodes': None,\n",
       " 'min_impurity_decrease': 0.0,\n",
       " 'min_samples_leaf': 1,\n",
       " 'min_samples_split': 2,\n",
       " 'min_weight_fraction_leaf': 0.0,\n",
       " 'random_state': 0,\n",
       " 'splitter': 'best'}"
      ]
     },
     "execution_count": 51,
     "metadata": {},
     "output_type": "execute_result"
    }
   ],
   "source": [
    "model3_train.get_params()"
   ]
  },
  {
   "cell_type": "markdown",
   "id": "cf84a9ae",
   "metadata": {},
   "source": [
    "For the Decision Tree Regressor, I will use alternate parameters to see if the performance can be improved.\n",
    "\n",
    "I attempted to use criterion=\"absolute_error\", but the run time was very long and didn't complete.\n",
    "\n",
    "Reference: https://scikit-learn.org/stable/modules/tree.html#tips-on-practical-use"
   ]
  },
  {
   "cell_type": "code",
   "execution_count": 52,
   "id": "73e9b79a",
   "metadata": {
    "scrolled": true
   },
   "outputs": [
    {
     "name": "stdout",
     "output_type": "stream",
     "text": [
      "Deceision Tree Regression Model 3:\n",
      "  coefficient of determination: 0.993\n",
      "  mean squared error: 24.645\n"
     ]
    }
   ],
   "source": [
    "regressor = DecisionTreeRegressor(random_state=0, min_samples_leaf= 5, criterion=\"friedman_mse\")\n",
    "model3_train_alt = regressor.fit(x_train,y_train)\n",
    "y_prediction3_alt =  model3_train_alt.predict(x_test)\n",
    "MSE_3_split_alt = mean_squared_error(y_test, y_prediction3_alt)\n",
    "# The coefficient of determination: 1 is perfect prediction\n",
    "r2_score3_split_alt = r2_score(y_test, y_prediction3_alt)\n",
    "residuals3_alt = y_test - y_prediction3_alt\n",
    "print('Deceision Tree Regression Model 3:')\n",
    "print('  coefficient of determination:', round(r2_score3_split_alt,3))\n",
    "print(\"  mean squared error: %.3f\" % MSE_3_split_alt)"
   ]
  },
  {
   "cell_type": "markdown",
   "id": "2990280b",
   "metadata": {},
   "source": [
    "Changing the parameters, using criterion=\"friedman_mse\" and min_samples_leaf=5, the results got slightly worse."
   ]
  },
  {
   "cell_type": "code",
   "execution_count": 53,
   "id": "fcb57f10",
   "metadata": {},
   "outputs": [
    {
     "data": {
      "text/plain": [
       "Text(0.5, 0, 'Residuals')"
      ]
     },
     "execution_count": 53,
     "metadata": {},
     "output_type": "execute_result"
    },
    {
     "data": {
      "image/png": "[encoded data removed]",
      "text/plain": [
       "<Figure size 864x288 with 3 Axes>"
      ]
     },
     "metadata": {
      "needs_background": "light"
     },
     "output_type": "display_data"
    }
   ],
   "source": [
    "# Plot histograms of residuals\n",
    "fig, axes = plt.subplots(1, 3, figsize=(12,4))\n",
    "fig.suptitle('Histograms of Residuals for Models 1, 2, & 3')\n",
    "sns.histplot(data=residuals1, stat='probability', bins=20, ax=axes[0])\n",
    "axes[0].set_title(\"Model 1: LR\")\n",
    "axes[0].set_ylim(0, 1.1)\n",
    "axes[0].set_xlabel(\"Residuals\")\n",
    "sns.histplot(data=residuals2, stat='probability', bins=20, ax=axes[1])\n",
    "axes[1].set_title(\"Model 2: MLR\")\n",
    "axes[1].set_ylim(0, 1.1)\n",
    "axes[1].set_xlabel(\"Residuals\")\n",
    "sns.histplot(data=residuals3, stat='probability', bins=20, ax=axes[2])\n",
    "axes[2].set_title(\"Model 3: Regression Tree\")\n",
    "axes[2].set_ylim(0, 1.1)\n",
    "axes[2].set_xlabel(\"Residuals\")"
   ]
  },
  {
   "cell_type": "markdown",
   "id": "abf29327",
   "metadata": {},
   "source": [
    "### Level 2\n",
    "### Exercise 5\n",
    "Perform some variable engineering process to improve prediction"
   ]
  },
  {
   "cell_type": "markdown",
   "id": "6760d9d9",
   "metadata": {},
   "source": [
    "I will return to this exercise at the end of the course if I have time."
   ]
  },
  {
   "cell_type": "markdown",
   "id": "994fdc6d",
   "metadata": {},
   "source": [
    "### Level 3\n",
    "### Exercise 6\n",
    "Do not use the DepDelay variable when making predictions"
   ]
  },
  {
   "cell_type": "markdown",
   "id": "6ffc55f1",
   "metadata": {},
   "source": [
    "The predictions created for Model 2, the Mulitple Linear Regression model, and Model 3, the Decision Tree Regressor above do not use the DepDelay variable."
   ]
  }
 ],
 "metadata": {
  "kernelspec": {
   "display_name": "Python 3 (ipykernel)",
   "language": "python",
   "name": "python3"
  },
  "language_info": {
   "codemirror_mode": {
    "name": "ipython",
    "version": 3
   },
   "file_extension": ".py",
   "mimetype": "text/x-python",
   "name": "python",
   "nbconvert_exporter": "python",
   "pygments_lexer": "ipython3",
   "version": "3.8.8"
  },
  "nbTranslate": {
   "displayLangs": [
    "es",
    "en"
   ],
   "hotkey": "alt-t",
   "langInMainMenu": true,
   "sourceLang": "en",
   "targetLang": "es",
   "useGoogleTranslate": true
  },
  "varInspector": {
   "cols": {
    "lenName": 16,
    "lenType": 16,
    "lenVar": 40
   },
   "kernels_config": {
    "python": {
     "delete_cmd_postfix": "",
     "delete_cmd_prefix": "del ",
     "library": "var_list.py",
     "varRefreshCmd": "print(var_dic_list())"
    },
    "r": {
     "delete_cmd_postfix": ") ",
     "delete_cmd_prefix": "rm(",
     "library": "var_list.r",
     "varRefreshCmd": "cat(var_dic_list()) "
    }
   },
   "types_to_exclude": [
    "module",
    "function",
    "builtin_function_or_method",
    "instance",
    "_Feature"
   ],
   "window_display": false
  }
 },
 "nbformat": 4,
 "nbformat_minor": 5
}
